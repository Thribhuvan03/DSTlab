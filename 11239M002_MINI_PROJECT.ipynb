{
  "nbformat": 4,
  "nbformat_minor": 0,
  "metadata": {
    "colab": {
      "provenance": [],
      "authorship_tag": "ABX9TyNTS5KCTPzttJZrOoC/Yo86",
      "include_colab_link": true
    },
    "kernelspec": {
      "name": "python3",
      "display_name": "Python 3"
    },
    "language_info": {
      "name": "python"
    }
  },
  "cells": [
    {
      "cell_type": "markdown",
      "metadata": {
        "id": "view-in-github",
        "colab_type": "text"
      },
      "source": [
        "<a href=\"https://colab.research.google.com/github/Thribhuvan03/DSTlab/blob/main/11239M002_MINI_PROJECT.ipynb\" target=\"_parent\"><img src=\"https://colab.research.google.com/assets/colab-badge.svg\" alt=\"Open In Colab\"/></a>"
      ]
    },
    {
      "cell_type": "code",
      "execution_count": null,
      "metadata": {
        "colab": {
          "base_uri": "https://localhost:8080/",
          "height": 173
        },
        "id": "VtdBRE9DZJSG",
        "outputId": "1d81567e-9ee4-4f5d-8f69-61309f38e7b0"
      },
      "outputs": [
        {
          "output_type": "stream",
          "name": "stdout",
          "text": [
            "Enter the number of students: 2\n",
            "Enter project title of student 1: AI-based healthcare system\n",
            "Enter project genre of student 1: AI\n",
            "Enter project title of student 2: Cyber Threats\n",
            "Enter project genre of student 2: Cyber\n",
            " → Student 1's project is a DUPLICATE of the dataset project: 'Ai-Based Healthcare System'\n",
            " → Student 2's project is NEW (not in dataset).\n",
            "\n",
            "✅ Processing complete! Download the updated files below:\n"
          ]
        },
        {
          "output_type": "display_data",
          "data": {
            "text/plain": [
              "<IPython.core.display.Javascript object>"
            ],
            "application/javascript": [
              "\n",
              "    async function download(id, filename, size) {\n",
              "      if (!google.colab.kernel.accessAllowed) {\n",
              "        return;\n",
              "      }\n",
              "      const div = document.createElement('div');\n",
              "      const label = document.createElement('label');\n",
              "      label.textContent = `Downloading \"${filename}\": `;\n",
              "      div.appendChild(label);\n",
              "      const progress = document.createElement('progress');\n",
              "      progress.max = size;\n",
              "      div.appendChild(progress);\n",
              "      document.body.appendChild(div);\n",
              "\n",
              "      const buffers = [];\n",
              "      let downloaded = 0;\n",
              "\n",
              "      const channel = await google.colab.kernel.comms.open(id);\n",
              "      // Send a message to notify the kernel that we're ready.\n",
              "      channel.send({})\n",
              "\n",
              "      for await (const message of channel.messages) {\n",
              "        // Send a message to notify the kernel that we're ready.\n",
              "        channel.send({})\n",
              "        if (message.buffers) {\n",
              "          for (const buffer of message.buffers) {\n",
              "            buffers.push(buffer);\n",
              "            downloaded += buffer.byteLength;\n",
              "            progress.value = downloaded;\n",
              "          }\n",
              "        }\n",
              "      }\n",
              "      const blob = new Blob(buffers, {type: 'application/binary'});\n",
              "      const a = document.createElement('a');\n",
              "      a.href = window.URL.createObjectURL(blob);\n",
              "      a.download = filename;\n",
              "      div.appendChild(a);\n",
              "      a.click();\n",
              "      div.remove();\n",
              "    }\n",
              "  "
            ]
          },
          "metadata": {}
        },
        {
          "output_type": "display_data",
          "data": {
            "text/plain": [
              "<IPython.core.display.Javascript object>"
            ],
            "application/javascript": [
              "download(\"download_70dfff98-5ba2-4e71-8dc6-cbccd46bb1da\", \"updated_project_dataset.csv\", 442)"
            ]
          },
          "metadata": {}
        },
        {
          "output_type": "display_data",
          "data": {
            "text/plain": [
              "<IPython.core.display.Javascript object>"
            ],
            "application/javascript": [
              "\n",
              "    async function download(id, filename, size) {\n",
              "      if (!google.colab.kernel.accessAllowed) {\n",
              "        return;\n",
              "      }\n",
              "      const div = document.createElement('div');\n",
              "      const label = document.createElement('label');\n",
              "      label.textContent = `Downloading \"${filename}\": `;\n",
              "      div.appendChild(label);\n",
              "      const progress = document.createElement('progress');\n",
              "      progress.max = size;\n",
              "      div.appendChild(progress);\n",
              "      document.body.appendChild(div);\n",
              "\n",
              "      const buffers = [];\n",
              "      let downloaded = 0;\n",
              "\n",
              "      const channel = await google.colab.kernel.comms.open(id);\n",
              "      // Send a message to notify the kernel that we're ready.\n",
              "      channel.send({})\n",
              "\n",
              "      for await (const message of channel.messages) {\n",
              "        // Send a message to notify the kernel that we're ready.\n",
              "        channel.send({})\n",
              "        if (message.buffers) {\n",
              "          for (const buffer of message.buffers) {\n",
              "            buffers.push(buffer);\n",
              "            downloaded += buffer.byteLength;\n",
              "            progress.value = downloaded;\n",
              "          }\n",
              "        }\n",
              "      }\n",
              "      const blob = new Blob(buffers, {type: 'application/binary'});\n",
              "      const a = document.createElement('a');\n",
              "      a.href = window.URL.createObjectURL(blob);\n",
              "      a.download = filename;\n",
              "      div.appendChild(a);\n",
              "      a.click();\n",
              "      div.remove();\n",
              "    }\n",
              "  "
            ]
          },
          "metadata": {}
        },
        {
          "output_type": "display_data",
          "data": {
            "text/plain": [
              "<IPython.core.display.Javascript object>"
            ],
            "application/javascript": [
              "download(\"download_500a73f5-9d15-4d93-9afe-b1b1a0aecac9\", \"student_project_report.csv\", 178)"
            ]
          },
          "metadata": {}
        }
      ],
      "source": [
        "import csv\n",
        "from google.colab import files\n",
        "\n",
        "# === UTILITY FUNCTIONS ===\n",
        "def clean_text(text):\n",
        "    return ' '.join(text.strip().lower().split())\n",
        "\n",
        "def save_dataset(filename, dataset):\n",
        "    with open(filename, 'w', newline='', encoding='utf-8') as f:\n",
        "        writer = csv.writer(f)\n",
        "        writer.writerow(['title', 'genre'])\n",
        "        for title, genre in dataset:\n",
        "            writer.writerow([title, genre])\n",
        "\n",
        "def write_csv_report(filename, student_projects, project_statuses):\n",
        "    with open(filename, 'w', newline='', encoding='utf-8') as csvfile:\n",
        "        fieldnames = ['Student', 'Project Title', 'Genre', 'Status']\n",
        "        writer = csv.DictWriter(csvfile, fieldnames=fieldnames)\n",
        "        writer.writeheader()\n",
        "        for i, ((title, genre), status) in enumerate(zip(student_projects, project_statuses)):\n",
        "            writer.writerow({\n",
        "                'Student': f'Student {i + 1}',\n",
        "                'Project Title': title,\n",
        "                'Genre': genre,\n",
        "                'Status': status\n",
        "            })\n",
        "\n",
        "# === BUILT-IN DATASET ===\n",
        "project_dataset = [\n",
        "    ('AI-based healthcare system', 'AI'),\n",
        "    ('Blockchain voting platform', 'Blockchain'),\n",
        "    ('Smart irrigation system using IoT', 'IoT'),\n",
        "    ('Automated attendance system', 'Computer Vision'),\n",
        "    ('E-commerce website with recommendations', 'Web'),\n",
        "    ('Chatbot for customer service', 'NLP'),\n",
        "    ('Fake news detection system', 'Machine Learning'),\n",
        "    ('Face mask detection during pandemic', 'Computer Vision'),\n",
        "    ('Autonomous delivery robot', 'Robotics'),\n",
        "    ('Personal finance management app', 'Finance'),\n",
        "]\n",
        "\n",
        "# Prepare cleaned versions\n",
        "cleaned_dataset = set((clean_text(title), clean_text(genre)) for title, genre in project_dataset)\n",
        "cleaned_project_dataset = [(clean_text(title), clean_text(genre)) for title, genre in project_dataset]\n",
        "\n",
        "# === STEP 1: ENTER STUDENT PROJECTS ===\n",
        "num_students = int(input(\"Enter the number of students: \"))\n",
        "student_projects = []\n",
        "for i in range(num_students):\n",
        "    title = input(f\"Enter project title of student {i + 1}: \")\n",
        "    genre = input(f\"Enter project genre of student {i + 1}: \")\n",
        "    student_projects.append((title, genre))\n",
        "\n",
        "# === STEP 2: CHECK FOR DUPLICATES ===\n",
        "project_statuses = []\n",
        "\n",
        "for idx, (title, genre) in enumerate(student_projects):\n",
        "    cleaned_title = clean_text(title)\n",
        "    cleaned_genre = clean_text(genre)\n",
        "    if (cleaned_title, cleaned_genre) in cleaned_dataset:\n",
        "        status = \"Duplicate project (already in dataset)\"\n",
        "        # Find which dataset project it matches for clear message\n",
        "        for dataset_title, dataset_genre in cleaned_project_dataset:\n",
        "            if (cleaned_title, cleaned_genre) == (dataset_title, dataset_genre):\n",
        "                print(f\" → Student {idx + 1}'s project is a DUPLICATE of the dataset project: '{dataset_title.title()}'\")\n",
        "                break\n",
        "    else:\n",
        "        status = \"New project (added to dataset)\"\n",
        "        print(f\" → Student {idx + 1}'s project is NEW (not in dataset).\")\n",
        "        cleaned_project_dataset.append((cleaned_title, cleaned_genre))\n",
        "        cleaned_dataset.add((cleaned_title, cleaned_genre))\n",
        "    project_statuses.append(status)\n",
        "\n",
        "# === STEP 3: SAVE UPDATED FILES ===\n",
        "updated_dataset_file = \"updated_project_dataset.csv\"\n",
        "report_file = \"student_project_report.csv\"\n",
        "\n",
        "# Save cleaned dataset (capitalize titles for neatness)\n",
        "save_dataset(updated_dataset_file, [(title.title(), genre.title()) for title, genre in cleaned_project_dataset])\n",
        "write_csv_report(report_file, student_projects, project_statuses)\n",
        "\n",
        "# === STEP 4: DOWNLOAD UPDATED FILES ===\n",
        "print(\"\\n✅ Processing complete! Download the updated files below:\")\n",
        "\n",
        "files.download(updated_dataset_file)\n",
        "files.download(report_file)\n"
      ]
    }
  ]
}